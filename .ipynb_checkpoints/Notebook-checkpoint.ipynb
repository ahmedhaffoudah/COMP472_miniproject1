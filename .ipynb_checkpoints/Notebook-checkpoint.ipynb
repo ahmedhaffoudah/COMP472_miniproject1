{
 "cells": [
  {
   "cell_type": "code",
   "execution_count": 56,
   "id": "c74cfba2",
   "metadata": {},
   "outputs": [],
   "source": [
    "DATA_DIR = \"./bbc/\""
   ]
  },
  {
   "cell_type": "code",
   "execution_count": 57,
   "id": "fcc55aa4",
   "metadata": {},
   "outputs": [],
   "source": [
    "%matplotlib inline\n",
    "import numpy as np\n",
    "import matplotlib.pyplot as plt\n",
    "from sklearn.datasets import load_files"
   ]
  },
  {
   "cell_type": "code",
   "execution_count": 74,
   "id": "cbc90b30",
   "metadata": {},
   "outputs": [],
   "source": [
    "data = load_files(DATA_DIR, encoding = \"latin1\")\n",
    "y = data.target"
   ]
  },
  {
   "cell_type": "code",
   "execution_count": 75,
   "id": "3b2be89a",
   "metadata": {},
   "outputs": [],
   "source": [
    "from sklearn.feature_extraction.text import CountVectorizer\n",
    "vectorizer = CountVectorizer()\n",
    "X = vectorizer.fit_transform(data.data)"
   ]
  },
  {
   "cell_type": "code",
   "execution_count": 79,
   "id": "60b748d7",
   "metadata": {},
   "outputs": [
    {
     "data": {
      "text/plain": [
       "(1780, 445)"
      ]
     },
     "execution_count": 79,
     "metadata": {},
     "output_type": "execute_result"
    }
   ],
   "source": [
    "from sklearn.model_selection import train_test_split\n",
    "X_train, X_test, y_train, y_test = train_test_split(X, y, test_size = 0.2, random_state = None)\n",
    "X_train.shape[0], X_test.shape[0]"
   ]
  }
 ],
 "metadata": {
  "kernelspec": {
   "display_name": "Python 3 (ipykernel)",
   "language": "python",
   "name": "python3"
  },
  "language_info": {
   "codemirror_mode": {
    "name": "ipython",
    "version": 3
   },
   "file_extension": ".py",
   "mimetype": "text/x-python",
   "name": "python",
   "nbconvert_exporter": "python",
   "pygments_lexer": "ipython3",
   "version": "3.9.5"
  }
 },
 "nbformat": 4,
 "nbformat_minor": 5
}
