{
 "cells": [
  {
   "cell_type": "code",
   "execution_count": 4,
   "id": "c74cfba2",
   "metadata": {},
   "outputs": [],
   "source": [
    "DATA_DIR = \"./bbc/\""
   ]
  },
  {
   "cell_type": "code",
   "execution_count": 5,
   "id": "fcc55aa4",
   "metadata": {},
   "outputs": [],
   "source": [
    "%matplotlib inline\n",
    "import numpy as np\n",
    "import matplotlib.pyplot as plt\n",
    "from sklearn.datasets import load_files"
   ]
  },
  {
   "cell_type": "markdown",
   "id": "0b1c40d5",
   "metadata": {},
   "source": [
    "## LOADING THE DATA"
   ]
  },
  {
   "cell_type": "code",
   "execution_count": 17,
   "id": "cbc90b30",
   "metadata": {},
   "outputs": [],
   "source": [
    "data = load_files(DATA_DIR, encoding = \"latin1\")\n",
    "y = data.target\n"
   ]
  },
  {
   "cell_type": "markdown",
   "id": "a01e3c2e",
   "metadata": {},
   "source": [
    "## PLOTING THE DISTRIBUTION"
   ]
  },
  {
   "cell_type": "code",
   "execution_count": 13,
   "id": "21d3ad40",
   "metadata": {
    "scrolled": true
   },
   "outputs": [
    {
     "data": {
      "image/png": "[encoded data removed]",
      "text/plain": [
       "<Figure size 432x288 with 1 Axes>"
      ]
     },
     "metadata": {
      "needs_background": "light"
     },
     "output_type": "display_data"
    }
   ],
   "source": [
    "labels, counts = np.unique(y, return_counts=True)\n",
    "fig = plt.figure()\n",
    "ax = fig.add_axes([0,0,1,1])\n",
    "ax.bar(data.target_names, counts)\n",
    "ax.set_ylabel('Number of Instances')\n",
    "ax.set_title('BBC-distribution')\n",
    "\n",
    "plt.savefig(\"BBC-distribution.pdf\", bbox_inches = \"tight\")"
   ]
  },
  {
   "cell_type": "markdown",
   "id": "a4a30fb4",
   "metadata": {},
   "source": [
    "## PREPROSSESSING THE DATA"
   ]
  },
  {
   "cell_type": "code",
   "execution_count": 19,
   "id": "04635830",
   "metadata": {},
   "outputs": [],
   "source": [
    "from sklearn.feature_extraction.text import CountVectorizer\n",
    "vectorizer = CountVectorizer()\n",
    "X = vectorizer.fit_transform(data.data)"
   ]
  },
  {
   "cell_type": "markdown",
   "id": "57f8985e",
   "metadata": {},
   "source": [
    "## SPLITTING THE DATA"
   ]
  },
  {
   "cell_type": "code",
   "execution_count": 8,
   "id": "9ef8a096",
   "metadata": {},
   "outputs": [],
   "source": [
    "from sklearn.model_selection import train_test_split\n",
    "X_train, X_test, y_train, y_test = train_test_split(X, y, test_size = 0.2, random_state = None)"
   ]
  },
  {
   "cell_type": "markdown",
   "id": "18cf889a",
   "metadata": {},
   "source": [
    "## TRAINING THE DATA - SMOOTHING = 1"
   ]
  },
  {
   "cell_type": "code",
   "execution_count": 39,
   "id": "65af0609",
   "metadata": {},
   "outputs": [
    {
     "data": {
      "text/plain": [
       "MultinomialNB()"
      ]
     },
     "execution_count": 39,
     "metadata": {},
     "output_type": "execute_result"
    }
   ],
   "source": [
    "from sklearn.naive_bayes import MultinomialNB\n",
    "clf = MultinomialNB()\n",
    "clf.fit(X_train, y_train)"
   ]
  },
  {
   "cell_type": "markdown",
   "id": "5727671b",
   "metadata": {},
   "source": [
    "## TRAINING THE DATA - SMOOTHING = 0.0001"
   ]
  },
  {
   "cell_type": "code",
   "execution_count": 40,
   "id": "bcc8a7b8",
   "metadata": {},
   "outputs": [
    {
     "data": {
      "text/plain": [
       "MultinomialNB(alpha=0.0001)"
      ]
     },
     "execution_count": 40,
     "metadata": {},
     "output_type": "execute_result"
    }
   ],
   "source": [
    "from sklearn.naive_bayes import MultinomialNB\n",
    "clf1 = MultinomialNB(alpha=0.0001)\n",
    "clf1.fit(X_train, y_train)"
   ]
  },
  {
   "cell_type": "markdown",
   "id": "b8cca349",
   "metadata": {},
   "source": [
    "## TRAINING THE DATA - SMOOTHING = 0.9"
   ]
  },
  {
   "cell_type": "code",
   "execution_count": 41,
   "id": "04d249e8",
   "metadata": {},
   "outputs": [
    {
     "data": {
      "text/plain": [
       "MultinomialNB(alpha=0.9)"
      ]
     },
     "execution_count": 41,
     "metadata": {},
     "output_type": "execute_result"
    }
   ],
   "source": [
    "from sklearn.naive_bayes import MultinomialNB\n",
    "clf2 = MultinomialNB(alpha=0.9)\n",
    "clf2.fit(X_train, y_train)"
   ]
  },
  {
   "cell_type": "markdown",
   "id": "5236645a",
   "metadata": {},
   "source": [
    "##  CONFUSION MATRICES"
   ]
  },
  {
   "cell_type": "code",
   "execution_count": 51,
   "id": "931673bd",
   "metadata": {},
   "outputs": [],
   "source": [
    "from sklearn.metrics import confusion_matrix\n",
    "y_pred = clf.predict(X_test)\n",
    "cMatrix = confusion_matrix(y_test, y_pred)"
   ]
  },
  {
   "cell_type": "code",
   "execution_count": 76,
   "id": "aebecf2c",
   "metadata": {},
   "outputs": [],
   "source": [
    "from sklearn.metrics import confusion_matrix\n",
    "y_pred1 = clf1.predict(X_test)\n",
    "cMatrix1 = confusion_matrix(y_test, y_pred1)"
   ]
  },
  {
   "cell_type": "code",
   "execution_count": 75,
   "id": "ee976d24",
   "metadata": {},
   "outputs": [],
   "source": [
    "from sklearn.metrics import confusion_matrix\n",
    "y_pred2 = clf2.predict(X_test)\n",
    "cMatrix2 = confusion_matrix(y_test, y_pred2)"
   ]
  },
  {
   "cell_type": "markdown",
   "id": "69589755",
   "metadata": {},
   "source": [
    "## CLASSIFICATION REPORTS"
   ]
  },
  {
   "cell_type": "code",
   "execution_count": 54,
   "id": "8141f6a7",
   "metadata": {
    "scrolled": true
   },
   "outputs": [],
   "source": [
    "from sklearn.metrics import classification_report\n",
    "cReport = classification_report(y_test, y_pred, target_names=data.target_names)"
   ]
  },
  {
   "cell_type": "code",
   "execution_count": 58,
   "id": "cc370417",
   "metadata": {
    "scrolled": true
   },
   "outputs": [],
   "source": [
    "from sklearn.metrics import classification_report\n",
    "cReport1 = classification_report(y_test, y_pred1, target_names=data.target_names)"
   ]
  },
  {
   "cell_type": "code",
   "execution_count": 59,
   "id": "702233fe",
   "metadata": {
    "scrolled": true
   },
   "outputs": [],
   "source": [
    "from sklearn.metrics import classification_report\n",
    "cReport2 = classification_report(y_test, y_pred2, target_names=data.target_names)"
   ]
  },
  {
   "cell_type": "markdown",
   "id": "3f5a5423",
   "metadata": {},
   "source": [
    "## ACCURACIES AND F1s"
   ]
  },
  {
   "cell_type": "code",
   "execution_count": 63,
   "id": "28d08994",
   "metadata": {},
   "outputs": [],
   "source": [
    "from sklearn.metrics import accuracy_score, f1_score\n",
    "accuracy = accuracy_score(y_test, y_pred) * 100\n",
    "f1_macro = f1_score(y_test, y_pred, average='macro')\n",
    "f1_weighted = f1_score(y_test, y_pred, average='weighted')"
   ]
  },
  {
   "cell_type": "code",
   "execution_count": 64,
   "id": "68fda57f",
   "metadata": {},
   "outputs": [],
   "source": [
    "from sklearn.metrics import accuracy_score, f1_score\n",
    "accuracy1 = accuracy_score(y_test, y_pred1) * 100\n",
    "f1_macro1 = f1_score(y_test, y_pred1, average='macro')\n",
    "f1_weighted1 = f1_score(y_test, y_pred1, average='weighted')"
   ]
  },
  {
   "cell_type": "code",
   "execution_count": 66,
   "id": "7fe29de1",
   "metadata": {},
   "outputs": [],
   "source": [
    "from sklearn.metrics import accuracy_score, f1_score\n",
    "accuracy2 = accuracy_score(y_test, y_pred2) * 100\n",
    "f1_macro2 = f1_score(y_test, y_pred2, average='macro')\n",
    "f1_weighted2 = f1_score(y_test, y_pred2, average='weighted')"
   ]
  },
  {
   "cell_type": "markdown",
   "id": "04f80e31",
   "metadata": {},
   "source": [
    "## PRIORS"
   ]
  },
  {
   "cell_type": "code",
   "execution_count": 67,
   "id": "c3dff34d",
   "metadata": {},
   "outputs": [],
   "source": [
    "labels, counts = np.unique(data.target, return_counts=True)\n",
    "labels_str = np.array(data.target_names)[labels]\n",
    "labels_count = dict(zip(labels_str, counts))\n",
    "total = np.sum(counts)\n",
    "prior_b = labels_count['business']/total \n",
    "prior_e = labels_count['entertainment']/total\n",
    "prior_p = labels_count['politics']/total\n",
    "prior_s = labels_count['sport']/total\n",
    "prior_t = labels_count['tech']/total"
   ]
  },
  {
   "cell_type": "markdown",
   "id": "3dd65bb7",
   "metadata": {},
   "source": [
    "## TOTAL WORDS IN EACH CLASS"
   ]
  },
  {
   "cell_type": "code",
   "execution_count": 68,
   "id": "ca63cf75",
   "metadata": {},
   "outputs": [],
   "source": [
    "a = X.toarray()\n",
    "words_by_class = np.zeros_like(np.arange(5))\n",
    "zero_f_by_class = np.zeros_like(np.arange(5))\n",
    "for i in range(y.shape[0]):\n",
    "    if y[i] == 0:\n",
    "        words_by_class[0] += np.sum(a[i])\n",
    "        zero_f_by_class[0] += np.count_nonzero(a[i]==0) \n",
    "    elif y[i] == 1:\n",
    "        words_by_class[1] += np.sum(a[i])\n",
    "        zero_f_by_class[1] += np.count_nonzero(a[i]==0) \n",
    "    elif y[i] == 2:\n",
    "        words_by_class[2] += np.sum(a[i])\n",
    "        zero_f_by_class[2] += np.count_nonzero(a[i]==0) \n",
    "    elif y[i] == 3:\n",
    "        words_by_class[3] += np.sum(a[i])\n",
    "        zero_f_by_class[3] += np.count_nonzero(a[i]==0) \n",
    "    elif y[i] == 4:\n",
    "        words_by_class[4] += np.sum(a[i])\n",
    "        zero_f_by_class[4] += np.count_nonzero(a[i]==0)"
   ]
  },
  {
   "cell_type": "markdown",
   "id": "382d1b38",
   "metadata": {},
   "source": [
    "## % WITH FREQUENCY 0 IN EACH CLASS"
   ]
  },
  {
   "cell_type": "code",
   "execution_count": 69,
   "id": "a21671cd",
   "metadata": {},
   "outputs": [],
   "source": [
    "zero_percentages = []\n",
    "for i in range(5):\n",
    "    zero_percentages.append(zero_f_by_class[i]/(a.shape[1]*counts[i]) * 100)"
   ]
  },
  {
   "cell_type": "markdown",
   "id": "0dc6361d",
   "metadata": {},
   "source": [
    "## # AND % OF WORDS WITH FREQUENCY 1"
   ]
  },
  {
   "cell_type": "code",
   "execution_count": 70,
   "id": "f7d37599",
   "metadata": {},
   "outputs": [],
   "source": [
    "nb_f_one = np.count_nonzero(a==1)\n",
    "percentage_f_one = nb_f_one/(a.shape[0]*a.shape[1])*100"
   ]
  },
  {
   "cell_type": "markdown",
   "id": "8ee5aa89",
   "metadata": {},
   "source": [
    "## FAV WORDS"
   ]
  },
  {
   "cell_type": "code",
   "execution_count": 71,
   "id": "6553157c",
   "metadata": {},
   "outputs": [],
   "source": [
    "#22865: royal\n",
    "#23400: scottish\n",
    "\n",
    "rows_sums = np.sum(a, axis = 0)\n",
    "prob_favs = [rows_sums[22865]/np.sum(words_by_class), rows_sums[23400]/np.sum(words_by_class)]\n",
    "log_prob_favs = np.log10(prob_favs)"
   ]
  },
  {
   "cell_type": "markdown",
   "id": "7c81fded",
   "metadata": {},
   "source": [
    "## FILE OUTPUT"
   ]
  },
  {
   "cell_type": "code",
   "execution_count": 72,
   "id": "9cff1b85",
   "metadata": {},
   "outputs": [],
   "source": [
    "stars = '***************************************************************************\\n\\n'\n",
    "with open('bbc-performance.txt', 'a') as f:\n",
    "#     f.write(\"%s(a) MultinomialNB default values, try 1\\n\\n\" % stars)\n",
    "    f.write(\"%s(b) CONFUSION MATIRX\\n\\n\" % stars)\n",
    "    np.savetxt(f, cMatrix, fmt ='%3.d', delimiter='     ')\n",
    "    f.write(\"\\n\\n\")\n",
    "    f.write(\"%s(c) CLASSIFICATION REPORT\\n\\n%s\\n\\n\" % (stars, cReport))\n",
    "    f.write(\"%s(d)\\n\\nACCURACY = %.2f%%\\n\\nMACRO-AVERAGE F1 = %.2f\\n\\nWEIGHTED-AVERAGE F1 = %.2f\\n\\n\" % (stars, accuracy, f1_macro, f1_weighted))\n",
    "#     f.write(\"%s(e) PRIORS\\n\\n%s\\n\\nTOTAL = %.d\\n\\nBUSINESS PRIOR = %.2f\\n\\nENTERTAINMENT PRIOR = %.2f\\n\\nPOLITICS PRIOR = %.2f\\n\\nSPORT PRIOR = %.2f\\n\\nTECH PRIOR = %.2f\\n\\n\" % (stars, labels_count, total, prior_b, prior_e, prior_p, prior_s, prior_t))\n",
    "#     f.write(\"%s(f) VOCABULARY SIZE\\n\\nWhen we used the Countvectorizer, it did not take duplicates.\\nWe ended up with an array where the rows represented the documents and the columns represented the words.\\nTherefore, in order to calculate the size of the vocabulary, we count how many columns the array has.\\n\\nVOCABULARY SIZE = %.d\\n\\n\" % (stars, X.shape[1]))\n",
    "#     f.write(\"%s(g) NUMBER OF WORD-TOKENS IN EACH CLASS\\n\\nBUSINESS = %d\\n\\nENTERTAINMENT = %d\\n\\nPOLITICS = %d\\n\\nSPORTS = %d\\n\\nTECH = %d\\n\\n\" % (stars, words_by_class[0], words_by_class[1], words_by_class[2], words_by_class[3], words_by_class[4]))\n",
    "#     f.write(\"%s(h) NUMBER OF WORD-TOKENS IN THE ENTIRE CORPUS\\n\\nCOUNT = %d\\n\\n\" % (stars, np.sum(words_by_class)))\n",
    "#     f.write(\"%s(i) NUMBER AND PERCENTAGE OF WORD | FRENQUENCY = 0, FOR EACH CLASS\\n\\nBUSINESS = %d --> %.2f%%\\n\\nENTERTAINMENT = %d --> %.2f%%\\n\\nPOLITICS = %d --> %.2f%%\\n\\nSPORTS = %d --> %.2f%%\\n\\nTECH = %d --> %.2f%%\\n\\n\" % (stars, zero_f_by_class[0], zero_percentages[0], zero_f_by_class[1], zero_percentages[1], zero_f_by_class[2], zero_percentages[2], zero_f_by_class[3], zero_percentages[3], zero_f_by_class[4], zero_percentages[4]))\n",
    "#     f.write(\"%s(j) NUMBER AND PERCENTAGE OF WORD | FRENQUENCY = 1\\n\\nCOUNT = %d --> %.2f%%\\n\\n\" % (stars, nb_f_one, percentage_f_one))\n",
    "#     f.write(\"%s(k) FAV WORDS\\n\\n1. royal (index: 22865) --> log_prob = %.2f\\n\\n2. scottish (index: 23400) --> log_prob = %.2f\\n\\n\" % (stars, log_prob_favs[0], log_prob_favs[1]))\n",
    "    \n",
    "    #---------------------------------------------------------------------------------------------------------------------\n",
    "    \n",
    "#     f.write(\"%s(a) MultinomialNB default values, try 2\\n\\n\" % stars)\n",
    "    f.write(\"%s(b) CONFUSION MATIRX\\n\\n\" % stars)\n",
    "    np.savetxt(f, cMatrix, fmt ='%3.d', delimiter='     ')\n",
    "    f.write(\"\\n\\n\")\n",
    "    f.write(\"%s(c) CLASSIFICATION REPORT\\n\\n%s\\n\\n\" % (stars, cReport))\n",
    "    f.write(\"%s(d)\\n\\nACCURACY = %.2f%%\\n\\nMACRO-AVERAGE F1 = %.2f\\n\\nWEIGHTED-AVERAGE F1 = %.2f\\n\\n\" % (stars, accuracy, f1_macro, f1_weighted))\n",
    "#     f.write(\"%s(e) PRIORS\\n\\n%s\\n\\nTOTAL = %.d\\n\\nBUSINESS PRIOR = %.2f\\n\\nENTERTAINMENT PRIOR = %.2f\\n\\nPOLITICS PRIOR = %.2f\\n\\nSPORT PRIOR = %.2f\\n\\nTECH PRIOR = %.2f\\n\\n\" % (stars, labels_count, total, prior_b, prior_e, prior_p, prior_s, prior_t))\n",
    "#     f.write(\"%s(f) VOCABULARY SIZE\\n\\nWhen we used the Countvectorizer, it did not take duplicates.\\nWe ended up with an array where the rows represented the documents and the columns represented the words.\\nTherefore, in order to calculate the size of the vocabulary, we count how many columns the array has.\\n\\nVOCABULARY SIZE = %.d\\n\\n\" % (stars, X.shape[1]))\n",
    "#     f.write(\"%s(g) NUMBER OF WORD-TOKENS IN EACH CLASS\\n\\nBUSINESS = %d\\n\\nENTERTAINMENT = %d\\n\\nPOLITICS = %d\\n\\nSPORTS = %d\\n\\nTECH = %d\\n\\n\" % (stars, words_by_class[0], words_by_class[1], words_by_class[2], words_by_class[3], words_by_class[4]))\n",
    "#     f.write(\"%s(h) NUMBER OF WORD-TOKENS IN THE ENTIRE CORPUS\\n\\nCOUNT = %d\\n\\n\" % (stars, np.sum(words_by_class)))\n",
    "#     f.write(\"%s(i) NUMBER AND PERCENTAGE OF WORD | FRENQUENCY = 0, FOR EACH CLASS\\n\\nBUSINESS = %d --> %.2f%%\\n\\nENTERTAINMENT = %d --> %.2f%%\\n\\nPOLITICS = %d --> %.2f%%\\n\\nSPORTS = %d --> %.2f%%\\n\\nTECH = %d --> %.2f%%\\n\\n\" % (stars, zero_f_by_class[0], zero_percentages[0], zero_f_by_class[1], zero_percentages[1], zero_f_by_class[2], zero_percentages[2], zero_f_by_class[3], zero_percentages[3], zero_f_by_class[4], zero_percentages[4]))\n",
    "#     f.write(\"%s(j) NUMBER AND PERCENTAGE OF WORD | FRENQUENCY = 1\\n\\nCOUNT = %d --> %.2f%%\\n\\n\" % (stars, nb_f_one, percentage_f_one))\n",
    "#     f.write(\"%s(k) FAV WORDS\\n\\n1. royal (index: 22865) --> log_prob = %.2f\\n\\n2. scottish (index: 23400) --> log_prob = %.2f\\n\\n\" % (stars, log_prob_favs[0], log_prob_favs[1]))\n",
    "\n",
    "    #---------------------------------------------------------------------------------------------------------------------\n",
    "    \n",
    "#     f.write(\"%s(a) MultinomialNB default values, smoothing = 0.0001\\n\\n\" % stars)\n",
    "    f.write(\"%s(b) CONFUSION MATIRX\\n\\n\" % stars)\n",
    "    np.savetxt(f, cMatrix1, fmt ='%3.d', delimiter='     ')\n",
    "    f.write(\"\\n\\n\")\n",
    "    f.write(\"%s(c) CLASSIFICATION REPORT\\n\\n%s\\n\\n\" % (stars, cReport1))\n",
    "    f.write(\"%s(d)\\n\\nACCURACY = %.2f%%\\n\\nMACRO-AVERAGE F1 = %.2f\\n\\nWEIGHTED-AVERAGE F1 = %.2f\\n\\n\" % (stars, accuracy1, f1_macro1, f1_weighted1))\n",
    "#     f.write(\"%s(e) PRIORS\\n\\n%s\\n\\nTOTAL = %.d\\n\\nBUSINESS PRIOR = %.2f\\n\\nENTERTAINMENT PRIOR = %.2f\\n\\nPOLITICS PRIOR = %.2f\\n\\nSPORT PRIOR = %.2f\\n\\nTECH PRIOR = %.2f\\n\\n\" % (stars, labels_count, total, prior_b, prior_e, prior_p, prior_s, prior_t))\n",
    "#     f.write(\"%s(f) VOCABULARY SIZE\\n\\nWhen we used the Countvectorizer, it did not take duplicates.\\nWe ended up with an array where the rows represented the documents and the columns represented the words.\\nTherefore, in order to calculate the size of the vocabulary, we count how many columns the array has.\\n\\nVOCABULARY SIZE = %.d\\n\\n\" % (stars, X.shape[1]))\n",
    "#     f.write(\"%s(g) NUMBER OF WORD-TOKENS IN EACH CLASS\\n\\nBUSINESS = %d\\n\\nENTERTAINMENT = %d\\n\\nPOLITICS = %d\\n\\nSPORTS = %d\\n\\nTECH = %d\\n\\n\" % (stars, words_by_class[0], words_by_class[1], words_by_class[2], words_by_class[3], words_by_class[4]))\n",
    "#     f.write(\"%s(h) NUMBER OF WORD-TOKENS IN THE ENTIRE CORPUS\\n\\nCOUNT = %d\\n\\n\" % (stars, np.sum(words_by_class)))\n",
    "#     f.write(\"%s(i) NUMBER AND PERCENTAGE OF WORD | FRENQUENCY = 0, FOR EACH CLASS\\n\\nBUSINESS = %d --> %.2f%%\\n\\nENTERTAINMENT = %d --> %.2f%%\\n\\nPOLITICS = %d --> %.2f%%\\n\\nSPORTS = %d --> %.2f%%\\n\\nTECH = %d --> %.2f%%\\n\\n\" % (stars, zero_f_by_class[0], zero_percentages[0], zero_f_by_class[1], zero_percentages[1], zero_f_by_class[2], zero_percentages[2], zero_f_by_class[3], zero_percentages[3], zero_f_by_class[4], zero_percentages[4]))\n",
    "#     f.write(\"%s(j) NUMBER AND PERCENTAGE OF WORD | FRENQUENCY = 1\\n\\nCOUNT = %d --> %.2f%%\\n\\n\" % (stars, nb_f_one, percentage_f_one))\n",
    "#     f.write(\"%s(k) FAV WORDS\\n\\n1. royal (index: 22865) --> log_prob = %.2f\\n\\n2. scottish (index: 23400) --> log_prob = %.2f\\n\\n\" % (stars, log_prob_favs[0], log_prob_favs[1]))\n",
    "    \n",
    "    #---------------------------------------------------------------------------------------------------------------------\n",
    "    \n",
    "#     f.write(\"%s(a) MultinomialNB default values, smoothing = 0.9\\n\\n\" % stars)\n",
    "    f.write(\"%s(b) CONFUSION MATIRX\\n\\n\" % stars)\n",
    "    np.savetxt(f, cMatrix2, fmt ='%3.d', delimiter='     ')\n",
    "    f.write(\"\\n\\n\")\n",
    "    f.write(\"%s(c) CLASSIFICATION REPORT\\n\\n%s\\n\\n\" % (stars, cReport2))\n",
    "    f.write(\"%s(d)\\n\\nACCURACY = %.2f%%\\n\\nMACRO-AVERAGE F1 = %.2f\\n\\nWEIGHTED-AVERAGE F1 = %.2f\\n\\n\" % (stars, accuracy2, f1_macro2, f1_weighted2))\n",
    "#     f.write(\"%s(e) PRIORS\\n\\n%s\\n\\nTOTAL = %.d\\n\\nBUSINESS PRIOR = %.2f\\n\\nENTERTAINMENT PRIOR = %.2f\\n\\nPOLITICS PRIOR = %.2f\\n\\nSPORT PRIOR = %.2f\\n\\nTECH PRIOR = %.2f\\n\\n\" % (stars, labels_count, total, prior_b, prior_e, prior_p, prior_s, prior_t))\n",
    "#     f.write(\"%s(f) VOCABULARY SIZE\\n\\nWhen we used the Countvectorizer, it did not take duplicates.\\nWe ended up with an array where the rows represented the documents and the columns represented the words.\\nTherefore, in order to calculate the size of the vocabulary, we count how many columns the array has.\\n\\nVOCABULARY SIZE = %.d\\n\\n\" % (stars, X.shape[1]))\n",
    "#     f.write(\"%s(g) NUMBER OF WORD-TOKENS IN EACH CLASS\\n\\nBUSINESS = %d\\n\\nENTERTAINMENT = %d\\n\\nPOLITICS = %d\\n\\nSPORTS = %d\\n\\nTECH = %d\\n\\n\" % (stars, words_by_class[0], words_by_class[1], words_by_class[2], words_by_class[3], words_by_class[4]))\n",
    "#     f.write(\"%s(h) NUMBER OF WORD-TOKENS IN THE ENTIRE CORPUS\\n\\nCOUNT = %d\\n\\n\" % (stars, np.sum(words_by_class)))\n",
    "#     f.write(\"%s(i) NUMBER AND PERCENTAGE OF WORD | FRENQUENCY = 0, FOR EACH CLASS\\n\\nBUSINESS = %d --> %.2f%%\\n\\nENTERTAINMENT = %d --> %.2f%%\\n\\nPOLITICS = %d --> %.2f%%\\n\\nSPORTS = %d --> %.2f%%\\n\\nTECH = %d --> %.2f%%\\n\\n\" % (stars, zero_f_by_class[0], zero_percentages[0], zero_f_by_class[1], zero_percentages[1], zero_f_by_class[2], zero_percentages[2], zero_f_by_class[3], zero_percentages[3], zero_f_by_class[4], zero_percentages[4]))\n",
    "#     f.write(\"%s(j) NUMBER AND PERCENTAGE OF WORD | FRENQUENCY = 1\\n\\nCOUNT = %d --> %.2f%%\\n\\n\" % (stars, nb_f_one, percentage_f_one))\n",
    "#     f.write(\"%s(k) FAV WORDS\\n\\n1. royal (index: 22865) --> log_prob = %.2f\\n\\n2. scottish (index: 23400) --> log_prob = %.2f\\n\\n\" % (stars, log_prob_favs[0], log_prob_favs[1]))\n",
    "    \n",
    "    \n",
    "f.close()"
   ]
  }
 ],
 "metadata": {
  "kernelspec": {
   "display_name": "Python 3 (ipykernel)",
   "language": "python",
   "name": "python3"
  },
  "language_info": {
   "codemirror_mode": {
    "name": "ipython",
    "version": 3
   },
   "file_extension": ".py",
   "mimetype": "text/x-python",
   "name": "python",
   "nbconvert_exporter": "python",
   "pygments_lexer": "ipython3",
   "version": "3.9.5"
  }
 },
 "nbformat": 4,
 "nbformat_minor": 5
}
